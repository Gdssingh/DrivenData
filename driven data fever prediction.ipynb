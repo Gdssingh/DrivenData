{
 "cells": [
  {
   "cell_type": "code",
   "execution_count": 78,
   "metadata": {},
   "outputs": [
    {
     "name": "stderr",
     "output_type": "stream",
     "text": [
      "Using TensorFlow backend.\n"
     ]
    }
   ],
   "source": [
    "import pandas as pd\n",
    "import numpy as np\n",
    "import seaborn as sns\n",
    "import matplotlib.pyplot as plt\n",
    "from sklearn.preprocessing import OrdinalEncoder\n",
    "from keras import layers\n",
    "from keras import models"
   ]
  },
  {
   "cell_type": "code",
   "execution_count": 2,
   "metadata": {},
   "outputs": [],
   "source": [
    "train_data=pd.read_csv('training_set_features.csv')\n",
    "train_label=pd.read_csv('training_set_labels.csv')"
   ]
  },
  {
   "cell_type": "code",
   "execution_count": 45,
   "metadata": {},
   "outputs": [],
   "source": [
    "def ordinalencoder(df,column_name):\n",
    "    for i in len(column_name):\n",
    "        t=df[i].unique().reshape(-1,1)\n",
    "        enc=OrdinalEncoder()\n",
    "        enc.fit(t)\n",
    "        temp=df[i]\n",
    "        temp=np.array(temp)\n",
    "        temp=temp.reshape(-1,1)\n",
    "        df[column_name]=enc.transform(temp)\n",
    "        return df\n",
    "    \n",
    "    \n",
    "    "
   ]
  },
  {
   "cell_type": "code",
   "execution_count": 66,
   "metadata": {},
   "outputs": [
    {
     "data": {
      "text/plain": [
       "Index(['respondent_id', 'h1n1_concern', 'h1n1_knowledge',\n",
       "       'behavioral_antiviral_meds', 'behavioral_avoidance',\n",
       "       'behavioral_face_mask', 'behavioral_wash_hands',\n",
       "       'behavioral_large_gatherings', 'behavioral_outside_home',\n",
       "       'behavioral_touch_face', 'doctor_recc_h1n1', 'doctor_recc_seasonal',\n",
       "       'chronic_med_condition', 'child_under_6_months', 'health_worker',\n",
       "       'health_insurance', 'opinion_h1n1_vacc_effective', 'opinion_h1n1_risk',\n",
       "       'opinion_h1n1_sick_from_vacc', 'opinion_seas_vacc_effective',\n",
       "       'opinion_seas_risk', 'opinion_seas_sick_from_vacc', 'age_group',\n",
       "       'education', 'race', 'sex', 'income_poverty', 'marital_status',\n",
       "       'rent_or_own', 'employment_status', 'hhs_geo_region', 'census_msa',\n",
       "       'household_adults', 'household_children', 'employment_industry',\n",
       "       'employment_occupation'],\n",
       "      dtype='object')"
      ]
     },
     "execution_count": 66,
     "metadata": {},
     "output_type": "execute_result"
    }
   ],
   "source": [
    "train_data.columns"
   ]
  },
  {
   "cell_type": "code",
   "execution_count": 68,
   "metadata": {},
   "outputs": [
    {
     "data": {
      "text/plain": [
       "respondent_id                           24\n",
       "h1n1_concern                             0\n",
       "h1n1_knowledge                           1\n",
       "behavioral_antiviral_meds                0\n",
       "behavioral_avoidance                     1\n",
       "behavioral_face_mask                     0\n",
       "behavioral_wash_hands                    1\n",
       "behavioral_large_gatherings              1\n",
       "behavioral_outside_home                  1\n",
       "behavioral_touch_face                    1\n",
       "doctor_recc_h1n1                         1\n",
       "doctor_recc_seasonal                     1\n",
       "chronic_med_condition                    1\n",
       "child_under_6_months                     0\n",
       "health_worker                            0\n",
       "health_insurance                         1\n",
       "opinion_h1n1_vacc_effective              2\n",
       "opinion_h1n1_risk                        2\n",
       "opinion_h1n1_sick_from_vacc              2\n",
       "opinion_seas_vacc_effective              1\n",
       "opinion_seas_risk                        2\n",
       "opinion_seas_sick_from_vacc              1\n",
       "age_group                                0\n",
       "education                              NaN\n",
       "race                                 Black\n",
       "sex                                   Male\n",
       "income_poverty                         NaN\n",
       "marital_status                 Not Married\n",
       "rent_or_own                            Own\n",
       "employment_status               Unemployed\n",
       "hhs_geo_region                    oxchjgsf\n",
       "census_msa                         Non-MSA\n",
       "household_adults                         2\n",
       "household_children                       0\n",
       "employment_industry                    NaN\n",
       "employment_occupation                  NaN\n",
       "Name: 24, dtype: object"
      ]
     },
     "execution_count": 68,
     "metadata": {},
     "output_type": "execute_result"
    }
   ],
   "source": [
    "train_data.iloc[24,:]"
   ]
  },
  {
   "cell_type": "code",
   "execution_count": 74,
   "metadata": {},
   "outputs": [
    {
     "name": "stdout",
     "output_type": "stream",
     "text": [
      "0 : < 12 Years\n",
      "1 : 12 Years\n",
      "2 : College Graduate\n",
      "3 : 12 Years\n",
      "4 : Some College\n",
      "5 : 12 Years\n",
      "6 : < 12 Years\n",
      "7 : Some College\n",
      "8 : College Graduate\n",
      "9 : 12 Years\n",
      "10 : 12 Years\n",
      "11 : College Graduate\n",
      "12 : College Graduate\n",
      "13 : Some College\n",
      "14 : 12 Years\n",
      "15 : College Graduate\n",
      "16 : 12 Years\n",
      "17 : Some College\n",
      "18 : College Graduate\n",
      "19 : Some College\n",
      "20 : College Graduate\n",
      "21 : Some College\n",
      "22 : College Graduate\n",
      "23 : < 12 Years\n",
      "24 : nan\n",
      "25 : Some College\n",
      "26 : College Graduate\n",
      "27 : Some College\n",
      "28 : 12 Years\n",
      "29 : nan\n",
      "30 : College Graduate\n",
      "31 : Some College\n",
      "32 : Some College\n",
      "33 : 12 Years\n",
      "34 : College Graduate\n",
      "35 : < 12 Years\n",
      "36 : Some College\n",
      "37 : Some College\n",
      "38 : College Graduate\n",
      "39 : < 12 Years\n",
      "40 : Some College\n",
      "41 : Some College\n",
      "42 : 12 Years\n",
      "43 : College Graduate\n",
      "44 : College Graduate\n",
      "45 : Some College\n",
      "46 : 12 Years\n",
      "47 : College Graduate\n",
      "48 : College Graduate\n",
      "49 : College Graduate\n",
      "50 : College Graduate\n",
      "51 : College Graduate\n",
      "52 : College Graduate\n",
      "53 : College Graduate\n",
      "54 : College Graduate\n",
      "55 : College Graduate\n",
      "56 : 12 Years\n",
      "57 : < 12 Years\n",
      "58 : College Graduate\n",
      "59 : Some College\n",
      "60 : College Graduate\n",
      "61 : College Graduate\n",
      "62 : 12 Years\n",
      "63 : 12 Years\n",
      "64 : nan\n",
      "65 : College Graduate\n",
      "66 : 12 Years\n",
      "67 : College Graduate\n",
      "68 : nan\n",
      "69 : Some College\n",
      "70 : College Graduate\n",
      "71 : < 12 Years\n",
      "72 : < 12 Years\n",
      "73 : College Graduate\n",
      "74 : Some College\n",
      "75 : nan\n",
      "76 : College Graduate\n",
      "77 : 12 Years\n",
      "78 : College Graduate\n",
      "79 : < 12 Years\n",
      "80 : 12 Years\n",
      "81 : Some College\n",
      "82 : College Graduate\n",
      "83 : College Graduate\n",
      "84 : 12 Years\n",
      "85 : 12 Years\n",
      "86 : < 12 Years\n",
      "87 : 12 Years\n",
      "88 : 12 Years\n",
      "89 : College Graduate\n",
      "90 : College Graduate\n",
      "91 : 12 Years\n",
      "92 : 12 Years\n",
      "93 : College Graduate\n",
      "94 : nan\n",
      "95 : College Graduate\n",
      "96 : Some College\n",
      "97 : College Graduate\n",
      "98 : Some College\n",
      "99 : < 12 Years\n",
      "100 : 12 Years\n",
      "101 : Some College\n",
      "102 : College Graduate\n",
      "103 : 12 Years\n",
      "104 : College Graduate\n",
      "105 : nan\n",
      "106 : College Graduate\n",
      "107 : College Graduate\n",
      "108 : College Graduate\n",
      "109 : 12 Years\n",
      "110 : College Graduate\n",
      "111 : Some College\n",
      "112 : 12 Years\n",
      "113 : 12 Years\n",
      "114 : College Graduate\n",
      "115 : < 12 Years\n",
      "116 : 12 Years\n",
      "117 : 12 Years\n",
      "118 : Some College\n",
      "119 : College Graduate\n",
      "120 : 12 Years\n",
      "121 : College Graduate\n",
      "122 : < 12 Years\n",
      "123 : College Graduate\n",
      "124 : College Graduate\n",
      "125 : College Graduate\n",
      "126 : 12 Years\n",
      "127 : Some College\n",
      "128 : 12 Years\n",
      "129 : College Graduate\n",
      "130 : Some College\n",
      "131 : Some College\n",
      "132 : Some College\n",
      "133 : College Graduate\n",
      "134 : Some College\n",
      "135 : 12 Years\n",
      "136 : Some College\n",
      "137 : College Graduate\n",
      "138 : College Graduate\n",
      "139 : < 12 Years\n",
      "140 : Some College\n",
      "141 : College Graduate\n",
      "142 : 12 Years\n",
      "143 : College Graduate\n",
      "144 : College Graduate\n",
      "145 : Some College\n",
      "146 : College Graduate\n",
      "147 : Some College\n",
      "148 : College Graduate\n",
      "149 : < 12 Years\n"
     ]
    }
   ],
   "source": [
    "for i in range(150):\n",
    "    \n",
    "        print(i,':',train_data.education[i])"
   ]
  },
  {
   "cell_type": "code",
   "execution_count": 75,
   "metadata": {},
   "outputs": [
    {
     "data": {
      "text/plain": [
       "array(['< 12 Years', '12 Years', 'College Graduate', 'Some College', nan],\n",
       "      dtype=object)"
      ]
     },
     "execution_count": 75,
     "metadata": {},
     "output_type": "execute_result"
    }
   ],
   "source": [
    "train_data.education.unique()"
   ]
  },
  {
   "cell_type": "code",
   "execution_count": 79,
   "metadata": {},
   "outputs": [
    {
     "data": {
      "text/plain": [
       "26707"
      ]
     },
     "execution_count": 79,
     "metadata": {},
     "output_type": "execute_result"
    }
   ],
   "source": [
    "len(train_label)"
   ]
  },
  {
   "cell_type": "code",
   "execution_count": 80,
   "metadata": {},
   "outputs": [
    {
     "ename": "OSError",
     "evalue": "dlopen(//anaconda3/lib/python3.7/site-packages/lightgbm/lib_lightgbm.so, 6): Library not loaded: /usr/local/opt/libomp/lib/libomp.dylib\n  Referenced from: //anaconda3/lib/python3.7/site-packages/lightgbm/lib_lightgbm.so\n  Reason: image not found",
     "output_type": "error",
     "traceback": [
      "\u001b[0;31m---------------------------------------------------------------------------\u001b[0m",
      "\u001b[0;31mOSError\u001b[0m                                   Traceback (most recent call last)",
      "\u001b[0;32m<ipython-input-80-5dacb4a27011>\u001b[0m in \u001b[0;36m<module>\u001b[0;34m\u001b[0m\n\u001b[0;32m----> 1\u001b[0;31m \u001b[0;32mimport\u001b[0m \u001b[0mlightgbm\u001b[0m \u001b[0;32mas\u001b[0m \u001b[0mlgb\u001b[0m\u001b[0;34m\u001b[0m\u001b[0;34m\u001b[0m\u001b[0m\n\u001b[0m",
      "\u001b[0;32m//anaconda3/lib/python3.7/site-packages/lightgbm/__init__.py\u001b[0m in \u001b[0;36m<module>\u001b[0;34m\u001b[0m\n\u001b[1;32m      6\u001b[0m \u001b[0;32mfrom\u001b[0m \u001b[0m__future__\u001b[0m \u001b[0;32mimport\u001b[0m \u001b[0mabsolute_import\u001b[0m\u001b[0;34m\u001b[0m\u001b[0;34m\u001b[0m\u001b[0m\n\u001b[1;32m      7\u001b[0m \u001b[0;34m\u001b[0m\u001b[0m\n\u001b[0;32m----> 8\u001b[0;31m \u001b[0;32mfrom\u001b[0m \u001b[0;34m.\u001b[0m\u001b[0mbasic\u001b[0m \u001b[0;32mimport\u001b[0m \u001b[0mBooster\u001b[0m\u001b[0;34m,\u001b[0m \u001b[0mDataset\u001b[0m\u001b[0;34m\u001b[0m\u001b[0;34m\u001b[0m\u001b[0m\n\u001b[0m\u001b[1;32m      9\u001b[0m from .callback import (early_stopping, print_evaluation, record_evaluation,\n\u001b[1;32m     10\u001b[0m                        reset_parameter)\n",
      "\u001b[0;32m//anaconda3/lib/python3.7/site-packages/lightgbm/basic.py\u001b[0m in \u001b[0;36m<module>\u001b[0;34m\u001b[0m\n\u001b[1;32m     31\u001b[0m \u001b[0;34m\u001b[0m\u001b[0m\n\u001b[1;32m     32\u001b[0m \u001b[0;34m\u001b[0m\u001b[0m\n\u001b[0;32m---> 33\u001b[0;31m \u001b[0m_LIB\u001b[0m \u001b[0;34m=\u001b[0m \u001b[0m_load_lib\u001b[0m\u001b[0;34m(\u001b[0m\u001b[0;34m)\u001b[0m\u001b[0;34m\u001b[0m\u001b[0;34m\u001b[0m\u001b[0m\n\u001b[0m\u001b[1;32m     34\u001b[0m \u001b[0;34m\u001b[0m\u001b[0m\n\u001b[1;32m     35\u001b[0m \u001b[0;34m\u001b[0m\u001b[0m\n",
      "\u001b[0;32m//anaconda3/lib/python3.7/site-packages/lightgbm/basic.py\u001b[0m in \u001b[0;36m_load_lib\u001b[0;34m()\u001b[0m\n\u001b[1;32m     26\u001b[0m     \u001b[0;32mif\u001b[0m \u001b[0mlen\u001b[0m\u001b[0;34m(\u001b[0m\u001b[0mlib_path\u001b[0m\u001b[0;34m)\u001b[0m \u001b[0;34m==\u001b[0m \u001b[0;36m0\u001b[0m\u001b[0;34m:\u001b[0m\u001b[0;34m\u001b[0m\u001b[0;34m\u001b[0m\u001b[0m\n\u001b[1;32m     27\u001b[0m         \u001b[0;32mreturn\u001b[0m \u001b[0;32mNone\u001b[0m\u001b[0;34m\u001b[0m\u001b[0;34m\u001b[0m\u001b[0m\n\u001b[0;32m---> 28\u001b[0;31m     \u001b[0mlib\u001b[0m \u001b[0;34m=\u001b[0m \u001b[0mctypes\u001b[0m\u001b[0;34m.\u001b[0m\u001b[0mcdll\u001b[0m\u001b[0;34m.\u001b[0m\u001b[0mLoadLibrary\u001b[0m\u001b[0;34m(\u001b[0m\u001b[0mlib_path\u001b[0m\u001b[0;34m[\u001b[0m\u001b[0;36m0\u001b[0m\u001b[0;34m]\u001b[0m\u001b[0;34m)\u001b[0m\u001b[0;34m\u001b[0m\u001b[0;34m\u001b[0m\u001b[0m\n\u001b[0m\u001b[1;32m     29\u001b[0m     \u001b[0mlib\u001b[0m\u001b[0;34m.\u001b[0m\u001b[0mLGBM_GetLastError\u001b[0m\u001b[0;34m.\u001b[0m\u001b[0mrestype\u001b[0m \u001b[0;34m=\u001b[0m \u001b[0mctypes\u001b[0m\u001b[0;34m.\u001b[0m\u001b[0mc_char_p\u001b[0m\u001b[0;34m\u001b[0m\u001b[0;34m\u001b[0m\u001b[0m\n\u001b[1;32m     30\u001b[0m     \u001b[0;32mreturn\u001b[0m \u001b[0mlib\u001b[0m\u001b[0;34m\u001b[0m\u001b[0;34m\u001b[0m\u001b[0m\n",
      "\u001b[0;32m//anaconda3/lib/python3.7/ctypes/__init__.py\u001b[0m in \u001b[0;36mLoadLibrary\u001b[0;34m(self, name)\u001b[0m\n\u001b[1;32m    432\u001b[0m \u001b[0;34m\u001b[0m\u001b[0m\n\u001b[1;32m    433\u001b[0m     \u001b[0;32mdef\u001b[0m \u001b[0mLoadLibrary\u001b[0m\u001b[0;34m(\u001b[0m\u001b[0mself\u001b[0m\u001b[0;34m,\u001b[0m \u001b[0mname\u001b[0m\u001b[0;34m)\u001b[0m\u001b[0;34m:\u001b[0m\u001b[0;34m\u001b[0m\u001b[0;34m\u001b[0m\u001b[0m\n\u001b[0;32m--> 434\u001b[0;31m         \u001b[0;32mreturn\u001b[0m \u001b[0mself\u001b[0m\u001b[0;34m.\u001b[0m\u001b[0m_dlltype\u001b[0m\u001b[0;34m(\u001b[0m\u001b[0mname\u001b[0m\u001b[0;34m)\u001b[0m\u001b[0;34m\u001b[0m\u001b[0;34m\u001b[0m\u001b[0m\n\u001b[0m\u001b[1;32m    435\u001b[0m \u001b[0;34m\u001b[0m\u001b[0m\n\u001b[1;32m    436\u001b[0m \u001b[0mcdll\u001b[0m \u001b[0;34m=\u001b[0m \u001b[0mLibraryLoader\u001b[0m\u001b[0;34m(\u001b[0m\u001b[0mCDLL\u001b[0m\u001b[0;34m)\u001b[0m\u001b[0;34m\u001b[0m\u001b[0;34m\u001b[0m\u001b[0m\n",
      "\u001b[0;32m//anaconda3/lib/python3.7/ctypes/__init__.py\u001b[0m in \u001b[0;36m__init__\u001b[0;34m(self, name, mode, handle, use_errno, use_last_error)\u001b[0m\n\u001b[1;32m    354\u001b[0m \u001b[0;34m\u001b[0m\u001b[0m\n\u001b[1;32m    355\u001b[0m         \u001b[0;32mif\u001b[0m \u001b[0mhandle\u001b[0m \u001b[0;32mis\u001b[0m \u001b[0;32mNone\u001b[0m\u001b[0;34m:\u001b[0m\u001b[0;34m\u001b[0m\u001b[0;34m\u001b[0m\u001b[0m\n\u001b[0;32m--> 356\u001b[0;31m             \u001b[0mself\u001b[0m\u001b[0;34m.\u001b[0m\u001b[0m_handle\u001b[0m \u001b[0;34m=\u001b[0m \u001b[0m_dlopen\u001b[0m\u001b[0;34m(\u001b[0m\u001b[0mself\u001b[0m\u001b[0;34m.\u001b[0m\u001b[0m_name\u001b[0m\u001b[0;34m,\u001b[0m \u001b[0mmode\u001b[0m\u001b[0;34m)\u001b[0m\u001b[0;34m\u001b[0m\u001b[0;34m\u001b[0m\u001b[0m\n\u001b[0m\u001b[1;32m    357\u001b[0m         \u001b[0;32melse\u001b[0m\u001b[0;34m:\u001b[0m\u001b[0;34m\u001b[0m\u001b[0;34m\u001b[0m\u001b[0m\n\u001b[1;32m    358\u001b[0m             \u001b[0mself\u001b[0m\u001b[0;34m.\u001b[0m\u001b[0m_handle\u001b[0m \u001b[0;34m=\u001b[0m \u001b[0mhandle\u001b[0m\u001b[0;34m\u001b[0m\u001b[0;34m\u001b[0m\u001b[0m\n",
      "\u001b[0;31mOSError\u001b[0m: dlopen(//anaconda3/lib/python3.7/site-packages/lightgbm/lib_lightgbm.so, 6): Library not loaded: /usr/local/opt/libomp/lib/libomp.dylib\n  Referenced from: //anaconda3/lib/python3.7/site-packages/lightgbm/lib_lightgbm.so\n  Reason: image not found"
     ]
    }
   ],
   "source": [
    "import lightgbm as lgb"
   ]
  },
  {
   "cell_type": "code",
   "execution_count": null,
   "metadata": {},
   "outputs": [],
   "source": []
  }
 ],
 "metadata": {
  "kernelspec": {
   "display_name": "Python 3",
   "language": "python",
   "name": "python3"
  },
  "language_info": {
   "codemirror_mode": {
    "name": "ipython",
    "version": 3
   },
   "file_extension": ".py",
   "mimetype": "text/x-python",
   "name": "python",
   "nbconvert_exporter": "python",
   "pygments_lexer": "ipython3",
   "version": "3.7.3"
  }
 },
 "nbformat": 4,
 "nbformat_minor": 4
}
